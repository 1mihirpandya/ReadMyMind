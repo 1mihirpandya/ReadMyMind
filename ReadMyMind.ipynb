{
 "cells": [
  {
   "cell_type": "markdown",
   "metadata": {},
   "source": [
    "Jupyter Notebook For ReadMyMind, A CS 125 @ Illinois MP7 Project by Isaac Park and Mihir Pandya."
   ]
  },
  {
   "cell_type": "code",
   "execution_count": 23,
   "metadata": {},
   "outputs": [
    {
     "name": "stdout",
     "output_type": "stream",
     "text": [
      "1. Yesterday, I was thrilled to be with so many WONDERFUL friends, in Utah’s MAGNIFICENT Capitol.\n",
      "\n",
      "It was my honor to sign two Presidential Proclamations that will modify the national monuments designations of both Bears Ears and Grand Staircase Escalante...\n",
      "https://t.co/jiTHcPovCi https://t.co/dIpdAUVoRB\n",
      "2. A must watch: Legal Scholar Alan Dershowitz was just on @foxandfriends talking of what is going on with respect to the greatest Witch Hunt in U.S. political history. Enjoy!\n",
      "3. With the great vote on Cutting Taxes, this could be a big day for the Stock Market - and YOU!\n",
      "4. Putting Pelosi/Schumer Liberal Puppet Jones into office in Alabama would hurt our great Republican Agenda of low on taxes, tough on crime, strong on military and borders...&amp; so much more. Look at your 401-k’s since Election. Highest Stock Market EVER! Jobs are roaring back!\n",
      "5. Democrats refusal to give even one vote for massive Tax Cuts is why we need Republican Roy Moore to win in Alabama. We need his vote on stopping crime, illegal immigration, Border Wall, Military, Pro Life, V.A., Judges 2nd Amendment and more. No to Jones, a Pelosi/Schumer Puppet!\n",
      "6. Report: “ANTI-TRUMP FBI AGENT LED CLINTON EMAIL PROBE”  Now it all starts to make sense!\n",
      "7. People who lost money when the Stock Market went down 350 points based on the False and Dishonest reporting of Brian Ross of @ABC News (he has been suspended), should consider hiring a lawyer and suing ABC for the damages this bad reporting has caused - many millions of dollars!\n",
      "8. After years of Comey, with the phony and dishonest Clinton investigation (and more), running the FBI, its reputation is in Tatters - worst in History! But fear not, we will bring it back to greatness.\n",
      "9. Tainted (no, very dishonest?) FBI “agent’s role in Clinton probe under review.” Led Clinton Email probe. @foxandfriends  Clinton money going to wife of another FBI agent in charge.\n",
      "10. Such a total miscarriage of Justice in San Francisco! https://t.co/MSIkBCKF3t\n",
      "11. RT @paulsperry_: Wray needs to clean house. Now we know the politicization even worse than McCabe's ties to McAuliffe/Clinton. It also infe…\n",
      "12. RT @paulsperry_: BREAKING: top FBI investigator for Mueller--PETER STRZOK--busted sending political text messages bashing Trump &amp; praising…\n",
      "13. RT @GovChristie: .@POTUS has done more to combat the addiction crisis than any other President. https://t.co/EfjJVrE29G\n",
      "14. RT @PressSec: The Trump effect: “The U.S. economy is running at its full potential for the first time in a decade” -WSJ\n",
      "https://t.co/ee5N0z…\n",
      "15. I never asked Comey to stop investigating Flynn. Just more Fake News covering another Comey lie!\n",
      "16. Congratulations to @ABC News for suspending Brian Ross for his horrendously inaccurate and dishonest report on the Russia, Russia, Russia Witch Hunt. More Networks and “papers” should do the same with their Fake News!\n",
      "17. Many people in our Country are asking what the “Justice” Department is going to do about the fact that totally Crooked Hillary, AFTER receiving a subpoena from the United States Congress, deleted and “acid washed” 33,000 Emails? No justice!\n",
      "18. So General Flynn lies to the FBI and his life is destroyed, while Crooked Hillary Clinton, on that now famous FBI holiday “interrogation” with no swearing in and no recording, lies many times...and nothing happens to her? Rigged system, or just a double standard?\n",
      "19. Great job First Lady Melania! https://t.co/TRuvaftPcD\n",
      "20. 62 years ago this week, a brave seamstress in Montgomery, Alabama uttered one word that changed history... https://t.co/eOvCBcMIKX\n",
      "21. I had to fire General Flynn because he lied to the Vice President and the FBI. He has pled guilty to those lies. It is a shame because his actions during the transition were lawful. There was nothing to hide!\n",
      "22. Biggest Tax Bill and Tax Cuts in history just passed in the Senate. Now these great Republicans will be going for final passage. Thank you to House and Senate Republicans for your hard work and commitment!\n",
      "23. We are one step closer to delivering MASSIVE tax cuts for working families across America. Special thanks to @SenateMajLdr Mitch McConnell and Chairman @SenOrrinHatch for shepherding our bill through the Senate. Look forward to signing a final bill before Christmas! https://t.co/gmWTny3SfS\n",
      "24. Economists on the TAX CUTS and JOBS ACT:\n",
      "\n",
      "“The enactment of a comprehensive overhaul - complete with a lower corporate tax rate - will IGNITE our ECONOMY with levels of GROWTH not SEEN IN GENERATIONS...” https://t.co/2vCBDtLh3C\n",
      "25. The media has been speculating that I fired Rex Tillerson or that he would be leaving soon - FAKE NEWS! He’s not leaving and while we disagree on certain subjects, (I call the final shots) we work well together and America is highly respected again!\n",
      "https://t.co/FrqiPLFJ1E\n",
      "26. RT @WhiteHouse: President Trump proclaims today as #WorldAIDSDay: https://t.co/AMqW8mWiak https://t.co/XGp8EelNzz\n",
      "27. Republicans Senators are working hard to pass the biggest Tax Cuts in the history of our Country. The Bill is getting better and better. This is a once in a generation chance. Obstructionist Dems trying to block because they think it is too good and will not be given the credit!\n",
      "28. The jury was not told the killer of Kate was a 7 time felon. The Schumer/Pelosi Democrats are so weak on Crime that they will pay a big price in the 2018 and 2020 Elections.\n",
      "29. The Kate Steinle killer came back and back over the weakly protected Obama border, always committing crimes and being violent, and yet this info was not used in court. His exoneration is a complete travesty of justice. BUILD THE WALL!\n",
      "30. A disgraceful verdict in the Kate Steinle case! No wonder the people of our Country are so angry with Illegal Immigration.\n",
      "31. The Christmas Story begins 2,000 years ago with a mother, a father, their baby son and the most extraordinary gift of all—the gift of God’s love for all of humanity.\n",
      "\n",
      "Whatever our beliefs, we know that the birth of Jesus Christ and the story of his life... https://t.co/P94C3LjWlx\n",
      "32. Today is a day that I’ve been looking very much forward to ALL YEAR LONG. It is one that you have heard me speak about many times before. \n",
      "\n",
      "Now, as President of the United States, it is my tremendous honor to finally wish America and the world, a very MERRY CHRISTMAS! https://t.co/cTvdlUkfHV\n",
      "33. Our FIFTH 1K milestone of 2017!\n",
      "#DOW24K #MAGA https://t.co/NoVt1uFp0y\n",
      "34. Today, it was my great honor to meet with the Crown Prince of Bahrain at the @WhiteHouse. Bahrain and the United States are important partners.\n",
      "\n",
      "During the Crown Prince’s visit, he is advancing $9 BILLION in commercial deals, including finalizing the purchase of F-16’s... https://t.co/vYuw7UGYmN\n",
      "35. Thank you @SenOrrinHatch. Let’s continue MAKING AMERICA GREAT AGAIN! https://t.co/PIv9OAVZcf https://t.co/6egRvuwj1l\n",
      "36. The Dow just broke 24,000 for the first time (another all-time Record). If the Dems had won the Presidential Election, the Market would be down 50% from these levels and Consumer Confidence, which is also at an all-time high, would be “low and glum!”\n",
      "37. Stock Market hits new Record High. Confidence and enthusiasm abound. More great numbers coming out!\n",
      "38. The Chinese Envoy, who just returned from North Korea, seems to have had no impact on Little Rocket Man. Hard to believe his people, and the military, put up with living in such horrible conditions. Russia and China condemned the launch.\n",
      "39. The Failing @nytimes has totally gone against the Social Media Guidelines that they installed to preserve some credibility after many of their biased reporters went Rogue!  @foxandfriends\n",
      "40. The Failing @nytimes, the pipe organ for the Democrat Party, has become a virtual lobbyist for them with regard to our massive Tax Cut Bill. They are wrong so often that now I know we have a winner!\n",
      "41. Funny to hear the Democrats talking about the National Debt when President Obama doubled it in only 8 years!\n",
      "42. “Had the information (Crooked Hillary’s emails) been released there would have been harm to National Security....\"\n",
      "Charles McCullough\n",
      "Fmr Intel Comm Inspector General https://t.co/b0tLW5TVhX\n",
      "43. The only people who don’t like the Tax Cut Bill are the people that don’t understand it or the Obstructionist Democrats that know how really good it is and do not want the credit and success to go to the Republicans!\n",
      "44. The House of Representatives seeks contempt citations(?) against the JusticeDepartment and the FBI for withholding key documents and an FBI witness which could shed light on surveillance of associates of Donald Trump. Big stuff. Deep State. Give this information NOW! @FoxNews\n",
      "45. .@Theresa_May, don’t focus on me, focus on the destructive Radical Islamic Terrorism that is taking place within the United Kingdom. We are doing just fine!\n",
      "46. Now, we have a once in a lifetime opportunity to RESTORE AMERICAN PROSPERITY – and RECLAIM AMERICA’S DESTINY.\n",
      "\n",
      "But in order to achieve this bright and glowing future, the SENATE MUST PASS TAX CUTS – and bring Main Street roaring back to life!\n",
      "https://t.co/jMNwEMrbbr https://t.co/3Niu0thp1D\n",
      "47. A vote to CUT TAXES is a vote to PUT AMERICA FIRST. It is time to take care of OUR WORKERS, to protect OUR COMMUNITIES, and to REBUILD OUR GREAT COUNTRY! https://t.co/wW3QNxcCHf https://t.co/sRL2yRK6k2\n",
      "48. This week, the Senate can join the House &amp; take a strong stand for the Middle Class families who are the backbone of America. Together, we will give the American people a big, beautiful Christmas present-a massive tax cut that lets Americans keep more of their HARD-EARNED MONEY! https://t.co/9jddEW2Oo5\n",
      "49. Departing @JBA_NAFW for St. Charles, Missouri to help push our plan for HISTORIC TAX CUTS across the finish line.\n",
      "\n",
      "A successful vote in the Senate this week will bring us one giant step closer to delivering an incredible victory for the American people!\n",
      "https://t.co/jR1DEUnm2h https://t.co/XF9sRwdV8u\n",
      "50. Economy growing! Excluding hurricane effects, CEA estimates that real GDP growth would have been 3.9% in Q3.\n",
      "\n",
      "Stock market at a new high, unemployment at a low. We are winning and TAX CUTS will shift our economy into high gear! https://t.co/HrKIF72VqE\n"
     ]
    }
   ],
   "source": [
    "import tweepy\n",
    "import pandas as pd\n",
    "\n",
    "\n",
    "# Tweet collector function (for one individual user)\n",
    "def collect_tweets(username):\n",
    "    auth = tweepy.OAuthHandler('1X5fCqPl7yVvYxQjQJwkvavFD', 'NXbTDPP3HxlXOL5dWdCegEP09odLAkxUWlyRvZqXxtAtdX597G')\n",
    "    auth.set_access_token('925495606931546112-mn3Hda41LsZhbYAKJtddL7TulRKucuj', 'lvCFqSLv5YvOGzCINH6JZ5cBI1CEkPKrRioBn5Iuec3Tt')\n",
    "    api = tweepy.API(auth)\n",
    "    \n",
    "    tweets_df = pd.DataFrame({\n",
    "        'Username': (),\n",
    "        'Timestamp': (),\n",
    "        'Likes': (),\n",
    "        'Retweets': (),\n",
    "        'Text': ()\n",
    "    })\n",
    "\n",
    "    tweets_df = tweets_df[['Username', 'Timestamp', 'Likes', 'Retweets', 'Text']]\n",
    "    \n",
    "    recent_tweets = api.user_timeline(screen_name = username, count=50, tweet_mode=\"extended\")\n",
    "    count = 1\n",
    "    for status in recent_tweets:\n",
    "        print(str(count) + '. ' + status.full_text)\n",
    "        count += 1\n",
    "        \n",
    "collect_tweets('realDonaldTrump')"
   ]
  },
  {
   "cell_type": "code",
   "execution_count": null,
   "metadata": {
    "collapsed": true
   },
   "outputs": [],
   "source": []
  }
 ],
 "metadata": {
  "kernelspec": {
   "display_name": "Python 3",
   "language": "python",
   "name": "python3"
  },
  "language_info": {
   "codemirror_mode": {
    "name": "ipython",
    "version": 3
   },
   "file_extension": ".py",
   "mimetype": "text/x-python",
   "name": "python",
   "nbconvert_exporter": "python",
   "pygments_lexer": "ipython3",
   "version": "3.6.2"
  }
 },
 "nbformat": 4,
 "nbformat_minor": 2
}
